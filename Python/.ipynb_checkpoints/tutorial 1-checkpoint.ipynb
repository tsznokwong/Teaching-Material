{
 "cells": [
  {
   "cell_type": "code",
   "execution_count": null,
   "metadata": {},
   "outputs": [],
   "source": [
    "'''\n",
    "Welcome to \"Introduction to Programming with Python\"!\n",
    "\n",
    "Tutorial 1~~~\n",
    "\n",
    "Basics\n",
    "\n",
    "We will cover:\n",
    "- What is programming? \n",
    "- Why programming?\n",
    "- What is python?\n",
    "- Setting up python\n",
    "- Python I/O\n",
    "- Variables\n",
    "- Data types\n",
    "- Operators\n",
    "\n",
    "'''"
   ]
  },
  {
   "cell_type": "code",
   "execution_count": null,
   "metadata": {},
   "outputs": [],
   "source": [
    "'''\n",
    "What is programming?\n",
    "The purpose of programming is to find a sequence of instructions that will automate performing a specific task\n",
    "or solve a given problem.\n",
    "Design → Coding → Testing → Debugging → Optimising → Publish\n",
    "'''"
   ]
  },
  {
   "cell_type": "code",
   "execution_count": null,
   "metadata": {},
   "outputs": [],
   "source": [
    "'''\n",
    "Why programming?\n",
    "- Speed up process\n",
    "- Create games\n",
    "- Important skills & tools\n",
    "- Develop logical thinking\n",
    "- Develop problem solving skills\n",
    "'''"
   ]
  },
  {
   "cell_type": "code",
   "execution_count": null,
   "metadata": {},
   "outputs": [],
   "source": [
    "'''\n",
    "What is python?\n",
    "A modern programming language widely use in the industry. \n",
    "Thosands of third-party modules facilitate development in: \n",
    "- Web and Internet Development\n",
    "- Database Access\n",
    "- Desktop GUIs\n",
    "- Scientific & Numeric\n",
    "- Education\n",
    "- Network Programming\n",
    "- Software & Game Development\n",
    "'''"
   ]
  },
  {
   "cell_type": "code",
   "execution_count": null,
   "metadata": {},
   "outputs": [],
   "source": [
    "'''\n",
    "Setting up python\n",
    "In this tutorial, we will be using python3 with jupyter notebook.\n",
    "\n",
    "Install Jupyter notebook:\n",
    "https://jupyter.readthedocs.io/en/latest/install.html\n",
    "\n",
    "Jupyter notebook through Anaconda:\n",
    "1. Download Anaconda. We recommend downloading Anaconda’s latest Python 3 version (currently Python 3.5).\n",
    "2. Install the version of Anaconda which you downloaded, following the instructions on the download page.\n",
    "3. Congratulations, you have installed Jupyter Notebook. To run the notebook:\n",
    "    jupyter notebook\n",
    "\n",
    "Jupyter notebook through pip3:\n",
    "1. pip3 install --upgrade pip\n",
    "2. pip3 install jupyter\n",
    "3. jupyter notebook\n",
    "\n",
    "Installing python in other ways:\n",
    "Linux: \n",
    "$ sudo apt-get update\n",
    "$ sudo apt-get install python3.6\n",
    "MacOS:\n",
    "$ /usr/bin/ruby -e \"$(curl -fsSL https://raw.githubusercontent.com/Homebrew/install/master/install)\"\n",
    "$ brew install python3\n",
    "UNIX Terminal (running): \n",
    "$ python3 myProject.py\n",
    "$ python3 -i myProject.py\n",
    "Windows: \n",
    "https://docs.python.org/3/using/windows.html \n",
    "\n",
    "'''"
   ]
  },
  {
   "cell_type": "code",
   "execution_count": 6,
   "metadata": {},
   "outputs": [
    {
     "name": "stdout",
     "output_type": "stream",
     "text": [
      "Hello World!\n",
      "What's your name? Joshua\n",
      "Hello, Joshua! You are my World! Joshua .\n"
     ]
    }
   ],
   "source": [
    "'''\n",
    "Python I/O\n",
    "Output:\n",
    "print()\n",
    "'''\n",
    "print(\"Hello World!\")\n",
    "\n",
    "'''\n",
    "Input:\n",
    "input(\"\")\n",
    "'''\n",
    "name = input(\"What's your name? \")\n",
    "print(\"Hello, \" + name, end = \"! \")\n",
    "print(\"You are my World!\", name, \".\")"
   ]
  },
  {
   "cell_type": "code",
   "execution_count": null,
   "metadata": {},
   "outputs": [],
   "source": [
    "'''\n",
    "Exercise: Python I/O\n",
    "- Greeting to user\n",
    "- Ask \"Who am I?\"\n",
    "- Tell user who you are\n",
    "'''"
   ]
  },
  {
   "cell_type": "code",
   "execution_count": 10,
   "metadata": {},
   "outputs": [
    {
     "name": "stdout",
     "output_type": "stream",
     "text": [
      "Now. You are John.\n",
      "Now. You are Mary.\n",
      "Now. You are hacked.\n",
      "name1\n",
      "Name1\n"
     ]
    }
   ],
   "source": [
    "'''\n",
    "Variables\n",
    "It is a memory storing a value.\n",
    "e.g. in Python I/O, name is a variable\n",
    "'=' is an operating storing value to a variable\n",
    "'''\n",
    "name = \"John\"\n",
    "print(\"Now. You are \" + name + \".\")\n",
    "name = \"Mary\"\n",
    "print(\"Now. You are \" + name + \".\")\n",
    "hacker = \"hacked\"\n",
    "name = hacker\n",
    "print(\"Now. You are \" + name + \".\")\n",
    "'''\n",
    "Identifier rules: (Rules of naming variables)\n",
    "Always start with: alphabets or underscore\n",
    "Digits are allowed as long as it is not at the front.\n",
    "Identifiers are case sensitive.\n",
    "No reserved words: \n",
    "False\tclass\t\tfinally\t\tis\t\t\treturn\n",
    "None\tcontinue\tfor\t\t\tlambda\t\ttry\n",
    "True\tdef\t\t\tfrom\t\tnonlocal\twhile\n",
    "and\t\tdel\t\t\tglobal\t\tnot\t\t\twith\n",
    "as\t\telif\t\tif\t\t\tor\t\t\tyield\n",
    "assert\telse\t\timport\t\tpass\n",
    "break\texcept\t\tin\t\t\traise\n",
    "'''\n",
    "_name = \"underscore\"\n",
    "name1 = \"name1\"\n",
    "Name1 = \"Name1\"\n",
    "print(name1)\n",
    "print(Name1)"
   ]
  },
  {
   "cell_type": "code",
   "execution_count": 18,
   "metadata": {},
   "outputs": [
    {
     "name": "stdout",
     "output_type": "stream",
     "text": [
      "var1 is <class 'int'>\n",
      "var2 is <class 'float'>\n",
      "var3 is <class 'str'>\n",
      "var4 is <class 'bool'>\n",
      "newVar1 1.0 is <class 'float'>\n",
      "newVar2 1.0 is <class 'str'>\n",
      "newVar3 True is <class 'bool'>\n",
      "newVar4 1 is <class 'int'>\n"
     ]
    }
   ],
   "source": [
    "'''\n",
    "Data types\n",
    "In Python, we have:\n",
    "int:    integer\n",
    "float:  floating points (numbers with decimal points)\n",
    "str:    string (a set of characters)\n",
    "bool:   boolean (true/false)\n",
    "'''\n",
    "var1 = 1\n",
    "var2 = 1.0\n",
    "var3 = \"1\"\n",
    "var4 = True\n",
    "'''\n",
    "We can check the type using type().\n",
    "'''\n",
    "print(\"var1 is\", type(var1))\n",
    "print(\"var2 is\", type(var2))\n",
    "print(\"var3 is\", type(var3))\n",
    "print(\"var4 is\", type(var4))\n",
    "'''\n",
    "We can convert data types\n",
    "'''\n",
    "newVar1 = float(var1)\n",
    "newVar2 = str(var2)\n",
    "newVar3 = bool(var3)\n",
    "newVar4 = int(var4)\n",
    "print(\"newVar1\", newVar1, \"is\", type(newVar1))\n",
    "print(\"newVar2\", newVar2, \"is\", type(newVar2))\n",
    "print(\"newVar3\", newVar3, \"is\", type(newVar3))\n",
    "print(\"newVar4\", newVar4, \"is\", type(newVar4))"
   ]
  },
  {
   "cell_type": "code",
   "execution_count": 29,
   "metadata": {},
   "outputs": [
    {
     "name": "stdout",
     "output_type": "stream",
     "text": [
      "1 + 1 is 2\n",
      "3 - 5 is -2\n",
      "5 * 10 is 50\n",
      "2 / 3 is 0.6666666666666666\n",
      "\n",
      "2 ^ 3 is 8\n",
      "21 // 4 is 5\n",
      "21 // 4 is 1\n",
      "\n",
      "x = 1\n",
      "x = 2\n",
      "x = -8\n",
      "\n",
      "True and True is True\n",
      "False or False is False\n",
      "not True is False\n",
      "\n",
      "3 < 2 or 3 > 2 is True\n",
      "name == 'Mary' and age >= 18 is True\n"
     ]
    }
   ],
   "source": [
    "'''\n",
    "Operators\n",
    "Basic Arithmetic Operators.    e.g. + - * /\n",
    "Advanced Arithmetic Operators. e.g. += -= **(Power) // (Integral division) %\n",
    "Logical Operators.             e.g. and, or, not\n",
    "Comparison Operators.          e.g. == != > >= < <=\n",
    "Precedence: order of operators\n",
    "e.g. (), **, -x +x, * / // %, + -, == != > >= < <=, not, and, or\n",
    "Same Precedence: run from left to right, except **\n",
    "'''\n",
    "print(\"1 + 1 is\", 1 + 1)\n",
    "print(\"3 - 5 is\", 3 - 5)\n",
    "print(\"5 * 10 is\", 5 * 10)\n",
    "print(\"2 / 3 is\", 2 / 3)\n",
    "print()\n",
    "print(\"2 ** 3 is\", 2 ** 3)\n",
    "print(\"21 // 4 is\", 21 // 4)\n",
    "print(\"21 // 4 is\", 21 % 4)\n",
    "print()\n",
    "x = 1\n",
    "print(\"x =\", x)\n",
    "x += 1             # equivalent x = x + 1\n",
    "print(\"x =\", x)\n",
    "x -= 10            # equivalent x = x - 10\n",
    "print(\"x =\", x)\n",
    "print()\n",
    "print(\"True and True is\", True and True)\n",
    "print(\"False or False is\", False or False)\n",
    "print(\"not True is\", not True)\n",
    "print()\n",
    "print(\"3 < 2 or 3 > 2 is\", 3 < 2 or 3 > 2)\n",
    "name = \"Mary\"\n",
    "age = 18\n",
    "print(\"name == 'Mary' and age >= 18 is\", name == 'Mary' and age >= 18)"
   ]
  },
  {
   "cell_type": "code",
   "execution_count": null,
   "metadata": {},
   "outputs": [],
   "source": [
    "'''\n",
    "Exercise: Operators\n",
    "1. Print value of (a*b)/(c-d) by inputing a, b, c, d\n",
    "2. Print value of a^b mod c by inputting a, b, c\n",
    "3. Determine whether a is even number by inputting a (True/False)\n",
    "4. Determine whether mark m is above passing score 50 and whether m is valid\n",
    "'''"
   ]
  },
  {
   "cell_type": "code",
   "execution_count": null,
   "metadata": {},
   "outputs": [],
   "source": [
    "'''\n",
    "Homework: \n",
    "A way to calculate the Instagram engagement rate of a post is by adding the number of Likes and Comments together\n",
    "and dividing it by the number of Followers you have and multiplying the outcome by 100 to get a percentage value.\n",
    "Let’s say you have a post with variables:\n",
    "Likes = \"500\" \n",
    "Comments = \"100\"\n",
    "Followers = \"3000\"\n",
    "Create a new variable PostEngagementRate using the above variables and provides an output giving post engagement\n",
    "rate of the post in percentage.\n",
    "'''\n",
    "Likes = \"500\" \n",
    "Comments = \"100\"\n",
    "Followers = \"3000\"\n",
    "# Insert your code here\n",
    "\n"
   ]
  },
  {
   "cell_type": "code",
   "execution_count": null,
   "metadata": {},
   "outputs": [],
   "source": []
  }
 ],
 "metadata": {
  "kernelspec": {
   "display_name": "Python 3",
   "language": "python",
   "name": "python3"
  },
  "language_info": {
   "codemirror_mode": {
    "name": "ipython",
    "version": 3
   },
   "file_extension": ".py",
   "mimetype": "text/x-python",
   "name": "python",
   "nbconvert_exporter": "python",
   "pygments_lexer": "ipython3",
   "version": "3.6.4"
  }
 },
 "nbformat": 4,
 "nbformat_minor": 2
}
