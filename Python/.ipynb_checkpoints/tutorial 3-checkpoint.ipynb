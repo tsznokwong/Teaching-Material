{
 "cells": [
  {
   "cell_type": "code",
   "execution_count": null,
   "metadata": {},
   "outputs": [],
   "source": [
    "'''\n",
    "Welcome to \"Introduction to Programming with Python\"!\n",
    "\n",
    "Tutorial 3~~~\n",
    "\n",
    "Data Structure\n",
    "\n",
    "We will cover:\n",
    "- List\n",
    "- Tuple\n",
    "- Dictionary\n",
    "- Nested Structure\n",
    "\n",
    "'''"
   ]
  },
  {
   "cell_type": "code",
   "execution_count": 11,
   "metadata": {},
   "outputs": [
    {
     "name": "stdout",
     "output_type": "stream",
     "text": [
      "['shirt', 't-shirt', 'tie', 'socks']\n",
      "[0, 1, 2, 3]\n",
      "shirt t-shirt tie socks \n",
      "shirt t-shirt tie socks \n"
     ]
    }
   ],
   "source": [
    "'''\n",
    "List\n",
    "A collection of items (any items) with []\n",
    "Keep things organized!!\n",
    "index from 0 to n - 1\n",
    "negative index from -n to -1\n",
    "list()\n",
    "'''\n",
    "wardrobe = [\"shirt\", \"t-shirt\", \"tie\", \"socks\"]\n",
    "size = 4\n",
    "print(wardrobe)\n",
    "print(list(range(size)))\n",
    "for index in range(size):\n",
    "    print(wardrobe[index], end = \" \")\n",
    "print()\n",
    "for index in range(-size, 0):\n",
    "    print(wardrobe[index], end = \" \")\n",
    "print()"
   ]
  },
  {
   "cell_type": "code",
   "execution_count": 12,
   "metadata": {},
   "outputs": [
    {
     "name": "stdout",
     "output_type": "stream",
     "text": [
      "['I', 'love', 'it!']\n",
      "['I', 'have', 'money']\n"
     ]
    }
   ],
   "source": [
    "'''\n",
    "String (A type of list)\n",
    "list of characters\n",
    "split()\n",
    "'''\n",
    "print(\"I love it!\".split())\n",
    "print(\"I$have$money\".split(\"$\"))"
   ]
  },
  {
   "cell_type": "code",
   "execution_count": 4,
   "metadata": {},
   "outputs": [
    {
     "name": "stdout",
     "output_type": "stream",
     "text": [
      "bcd\n",
      "dcb\n",
      "ace\n",
      "abcde\n",
      "fdb\n",
      "[]\n"
     ]
    }
   ],
   "source": [
    "'''\n",
    "Sublist\n",
    "text[a:b:c] → string from index a to b exclude b with steps c\n",
    "'''\n",
    "text = \"abcdef\"\n",
    "#       012345\n",
    "#      -654321\n",
    "print(text[1:4])\n",
    "print(text[3:0:-1])\n",
    "print(text[0:6:2])\n",
    "print(text[-6:-1])\n",
    "print(text[-1:-7:-2])\n",
    "'''\n",
    "Step c cannot be 0\n",
    "Empty if x[a:a]\n",
    "Empty if x[a:b:c] where a >= b and a, b, c > 0\n",
    "Empty if x[a:b:c] where a <= b and a, b, c < 0\n",
    "'''\n",
    "print([])"
   ]
  },
  {
   "cell_type": "code",
   "execution_count": 38,
   "metadata": {},
   "outputs": [
    {
     "name": "stdout",
     "output_type": "stream",
     "text": [
      "4\n",
      "['shirt', 't-shirt', 'tie', 'socks', 'jacket']\n",
      "['shirt', 't-shirt', 'trousers', 'tie', 'socks', 'jacket']\n",
      "['shirt', 't-shirt', 'trousers', 'tie', 'socks', 'jacket', 'tie']\n",
      "['shirt', 't-shirt', 'trousers', 'socks', 'jacket', 'tie']\n",
      "['shirt', 't-shirt', 'trousers', 'socks', 'jacket']\n",
      "['shirt', 'trousers', 'socks', 'jacket']\n",
      "['jacket', 'shirt', 'socks', 'trousers']\n",
      "['trousers', 'socks', 'shirt', 'jacket']\n",
      "['trousers', 'socks', 'shirt', 'jacket', 'socks']\n",
      "2\n",
      "1\n",
      "['trousers', 'socks', 'shirt', 'jacket', 'socks', 'tie', 'hoodie']\n",
      "I have trousers\n",
      "I have socks\n",
      "I have shirt\n",
      "I have jacket\n",
      "I have socks\n",
      "I have tie\n",
      "I have hoodie\n"
     ]
    }
   ],
   "source": [
    "'''\n",
    "operators\n",
    "get length of list\n",
    "'''\n",
    "wardrobe = [\"shirt\", \"t-shirt\", \"tie\", \"socks\"]\n",
    "print(len(wardrobe))\n",
    "'''\n",
    "add an item at the end\n",
    "'''\n",
    "wardrobe.append(\"jacket\")\n",
    "print(wardrobe)\n",
    "'''\n",
    "insert an item at nth position\n",
    "'''\n",
    "wardrobe.insert(2, \"trousers\")\n",
    "print(wardrobe)\n",
    "'''\n",
    "remove first occurrence\n",
    "'''\n",
    "wardrobe.append(\"tie\")\n",
    "print(wardrobe)\n",
    "wardrobe.remove(\"tie\")\n",
    "print(wardrobe)\n",
    "'''\n",
    "pop (delete) at the end or nth position\n",
    "'''\n",
    "wardrobe.pop()\n",
    "print(wardrobe)\n",
    "wardrobe.pop(1)\n",
    "print(wardrobe)\n",
    "'''\n",
    "sort, in ascending order\n",
    "'''\n",
    "wardrobe.sort()\n",
    "print(wardrobe)\n",
    "'''\n",
    "reverse order\n",
    "'''\n",
    "wardrobe.reverse()\n",
    "print(wardrobe)\n",
    "'''\n",
    "count how many times item appears\n",
    "'''\n",
    "wardrobe.append(\"socks\")\n",
    "print(wardrobe)\n",
    "print(wardrobe.count(\"socks\"))\n",
    "'''\n",
    "index of first occurence\n",
    "'''\n",
    "print(wardrobe.index(\"socks\"))\n",
    "'''\n",
    "extend another list\n",
    "'''\n",
    "box = [\"tie\", \"hoodie\"]\n",
    "wardrobe.extend(box)\n",
    "print(wardrobe)\n",
    "'''\n",
    "For loop\n",
    "'''\n",
    "for item in wardrobe:\n",
    "    print(\"I have \" + item)"
   ]
  },
  {
   "cell_type": "code",
   "execution_count": 3,
   "metadata": {
    "scrolled": true
   },
   "outputs": [
    {
     "name": "stdout",
     "output_type": "stream",
     "text": [
      "[2, 6, 4, 8, 1, 3, 5, 7]\n",
      "[2, 6, 4, 8, 1, 3, 5, 7, 2, 6, 4, 8, 1, 3, 5, 7]\n",
      "[8, 1, 3, 5, 7, 2, 6, 4, 8, 1, 3, 5, 7]\n"
     ]
    }
   ],
   "source": [
    "'''\n",
    "Operators\n",
    "extend: +\n",
    "repeat: *\n",
    "delete range: del\n",
    "'''\n",
    "list1 = [2, 6, 4, 8]\n",
    "list2 = [1, 3, 5, 7]\n",
    "list3 = list1 + list2\n",
    "print(list3)\n",
    "list3 *= 2\n",
    "print(list3)\n",
    "del list3[0:3]\n",
    "print(list3)"
   ]
  },
  {
   "cell_type": "code",
   "execution_count": 6,
   "metadata": {},
   "outputs": [
    {
     "name": "stdout",
     "output_type": "stream",
     "text": [
      "2 1\n"
     ]
    }
   ],
   "source": [
    "'''\n",
    "Exercise: List\n",
    "create a list of fibonacci sequence with size 10\n",
    "'''\n",
    "fibonacci = []\n",
    "# Insert your code here\n"
   ]
  },
  {
   "cell_type": "code",
   "execution_count": null,
   "metadata": {},
   "outputs": [],
   "source": [
    "'''\n",
    "Exercise: List\n",
    "shift the list right by nth position\n",
    "e.g. [1, 3, 5, 7, 9] shift 2 -> [7, 9, 1, 3, 5]\n",
    "'''\n",
    "myList = [1, 3, 5, 7, 9]\n",
    "n = input(\"How much you want to shift the position?\")\n",
    "# Insert your code here\n"
   ]
  },
  {
   "cell_type": "code",
   "execution_count": 10,
   "metadata": {},
   "outputs": [
    {
     "name": "stdout",
     "output_type": "stream",
     "text": [
      "('shirt', 't-shirt', 'tie', 'socks')\n",
      "shirt\n",
      "4\n",
      "['shirt', 't-shirt', 'tie', 'socks']\n",
      "I have shirt\n",
      "I have t-shirt\n",
      "I have tie\n",
      "I have socks\n"
     ]
    }
   ],
   "source": [
    "'''\n",
    "Tuple\n",
    "A collection of items (any items) with ()\n",
    "never mutated (changed)\n",
    "'''\n",
    "wardrobe = (\"shirt\", \"t-shirt\", \"tie\", \"socks\")\n",
    "print(wardrobe)\n",
    "print(wardrobe[0])\n",
    "print(len(wardrobe))\n",
    "print(list(wardrobe))\n",
    "for item in wardrobe:\n",
    "    print(\"I have \" + item)"
   ]
  },
  {
   "cell_type": "code",
   "execution_count": 9,
   "metadata": {},
   "outputs": [
    {
     "name": "stdout",
     "output_type": "stream",
     "text": [
      "mickey is Minnie and minnie is Mickey\n",
      "mickey is Mickey and minnie is Minnie\n"
     ]
    }
   ],
   "source": [
    "'''\n",
    "Swapping Value\n",
    "'''\n",
    "mickey = \"Mickey\"\n",
    "minnie = \"Minnie\"\n",
    "(mickey, minnie) = (minnie, mickey)\n",
    "print(\"mickey is \" + mickey + \" and minnie is \" + minnie)\n",
    "mickey, minnie = minnie, mickey\n",
    "print(\"mickey is \" + mickey + \" and minnie is \" + minnie)"
   ]
  },
  {
   "cell_type": "code",
   "execution_count": null,
   "metadata": {},
   "outputs": [],
   "source": [
    "'''\n",
    "Exercise: Tuple\n",
    "Separate email’s local and domain part and put them into a tuple\n",
    "'''\n",
    "email = \"test@example.com\"\n",
    "# Insert your code here"
   ]
  },
  {
   "cell_type": "code",
   "execution_count": 16,
   "metadata": {},
   "outputs": [
    {
     "name": "stdout",
     "output_type": "stream",
     "text": [
      "{'a': 'apple', 'b': 'banana'}\n",
      "apple\n",
      "None\n",
      "{'a': 'apple', 'b': 'banana', 'c': 'cherry', 'random': 'strawberry'}\n",
      "{'a': 'apple', 'b': 'banana', 'c': 'cherry', 'random': 'mango'}\n",
      "{'a': 'apple', 'b': 'banana', 'c': 'cherry'}\n",
      "dict_keys(['a', 'b', 'c'])\n",
      "dict_values(['apple', 'banana', 'cherry'])\n",
      "dict_items([('a', 'apple'), ('b', 'banana'), ('c', 'cherry')])\n",
      "a for apple\n",
      "b for banana\n",
      "c for cherry\n"
     ]
    }
   ],
   "source": [
    "'''\n",
    "Dictionary\n",
    "A collection of items (any items) with {}\n",
    "Key k and value v pair\n",
    "dictionary[k] = v\n",
    "no order\n",
    "'''\n",
    "myDictionary = {\"a\": \"apple\", \"b\": \"banana\"}\n",
    "print(myDictionary)\n",
    "'''\n",
    "Access\n",
    "Warning myDictionary[8] can be failed\n",
    "'''\n",
    "print(myDictionary.get(\"a\"))\n",
    "print(myDictionary.get(8))\n",
    "'''\n",
    "Insert items\n",
    "'''\n",
    "myDictionary[\"c\"] = \"cherry\"\n",
    "myDictionary[\"random\"] = \"strawberry\"\n",
    "print(myDictionary)\n",
    "'''\n",
    "Change value\n",
    "'''\n",
    "myDictionary[\"random\"] = \"mango\"\n",
    "print(myDictionary)\n",
    "'''\n",
    "Remove item\n",
    "'''\n",
    "del myDictionary[\"random\"]\n",
    "print(myDictionary)\n",
    "'''\n",
    "get list of keys\n",
    "get list of values\n",
    "get list of items (tuple)\n",
    "'''\n",
    "print(myDictionary.keys())\n",
    "print(myDictionary.values())\n",
    "print(myDictionary.items())\n",
    "'''\n",
    "For loop\n",
    "'''\n",
    "for key, value in myDictionary.items():\n",
    "    print(key, \"for\", value)\n"
   ]
  },
  {
   "cell_type": "code",
   "execution_count": null,
   "metadata": {},
   "outputs": [],
   "source": [
    "'''\n",
    "Exercise: Dictionary\n",
    "Make a times table for 3 in using dictionary\n",
    "'''\n",
    "timesTableFor3 = {1: 3, 2: 6}\n",
    "# Insert your code here\n"
   ]
  },
  {
   "cell_type": "code",
   "execution_count": 21,
   "metadata": {},
   "outputs": [
    {
     "name": "stdout",
     "output_type": "stream",
     "text": [
      "4\n",
      "sweet\n"
     ]
    }
   ],
   "source": [
    "'''\n",
    "Nested Structure\n",
    "You can define list of list, dictionary of list, or more...\n",
    "'''\n",
    "myTimesTable = [[0, 0, 0, 0],\n",
    "                [0, 1, 1, 1], \n",
    "                [0, 2, 4, 6], \n",
    "                [0, 3, 6, 9]]\n",
    "print(myTimesTable[2][2])\n",
    "\n",
    "fruits = { \"apple\": [\"red\", \"sweet\"], \"banana\": [\"yellow\", \"creamy\"] }\n",
    "print(fruits[\"apple\"][1])\n"
   ]
  },
  {
   "cell_type": "code",
   "execution_count": 19,
   "metadata": {},
   "outputs": [
    {
     "name": "stdout",
     "output_type": "stream",
     "text": [
      "[['tom', ['M', 19]], ['maggi', ['F', 21, 88]], ['jerry', ['M']], ['mickey', ['F', 18]]]\n"
     ]
    }
   ],
   "source": [
    "'''\n",
    "Exercise: Nested Structure\n",
    "\n",
    "As seen above is a nested list containing worker’s names tagged to their gender and age in a list.\n",
    "However, Maggi and Jerry decided to be funny! \n",
    "Maggi added in an extra input 88 while filling up google forms, and Jerry decided to leave his age out.\n",
    "Help to remove the extra input 88 by Maggi and the administrator called up Jerry to find out that he is actually 22 years old.\n",
    "Use list operations or slicing & concatenating methods to add in Jerry’s age and remove Maggi’s extra input.\n",
    "'''\n",
    "details = [[\"tom\", [\"M\", 19]],\n",
    "           [\"maggi\", [\"F\", 21, 88]],\n",
    "           [\"jerry\", [\"M\"]],\n",
    "           [\"mickey\", [\"F\", 18]]]\n",
    "# Insert your code here\n",
    "\n",
    "print(details)"
   ]
  },
  {
   "cell_type": "code",
   "execution_count": null,
   "metadata": {},
   "outputs": [],
   "source": [
    "'''\n",
    "Exercise: Nested Structure\n",
    "Bank of ‘Murica wants to create a dictionary containing keys being the stock name (string) and values\n",
    "being lists that contain these in order: 1.StockPrice(numeric) 2.ChangeinPrice(numeric)\n",
    " \n",
    "Stock Name\tStock Price\tChange in Price\n",
    "“tezla”\t\t42\t\t\t3\n",
    "“alipapa”\t140\t\t\t0\n",
    "“amazon”\t180\t\t\t-9\n",
    "Create a dictionary in order of the table i.e. the stock that appears first in the table takes the \n",
    "first key in the dictionary and name the dictionary stocks.\n",
    "'''\n",
    "stocks = {}\n",
    "# Insert your code here\n",
    "\n",
    "'''\n",
    "Now that you have created a dictionary stocks of these stocks and their prices and performance,\n",
    "Create a short IF-ELIF-ELSE statement code giving a string output “change in price of stock_name\n",
    "is positive/zero/negative” depending on the value of Change in Price using the variable stock_name\n",
    "as an input which contains the Stock Name of the specific stock.\n",
    "Then test your outputs using each and every stock name (i.e. stock_name = ‘tezla’) as an input.\n",
    "Hint:\n",
    "Your IF-ELIF-ELSE statements takes an input stock_name which is a string but you want an output that \n",
    "tells you if the Change in Price (which is a numeric value) is positive/zero/negative.\n",
    "You definitely need to use and access stocks in your IF-ELIF-ELSE statement code.\n",
    "'''\n",
    "# Insert your code here"
   ]
  }
 ],
 "metadata": {
  "kernelspec": {
   "display_name": "Python 3",
   "language": "python",
   "name": "python3"
  },
  "language_info": {
   "codemirror_mode": {
    "name": "ipython",
    "version": 3
   },
   "file_extension": ".py",
   "mimetype": "text/x-python",
   "name": "python",
   "nbconvert_exporter": "python",
   "pygments_lexer": "ipython3",
   "version": "3.6.4"
  }
 },
 "nbformat": 4,
 "nbformat_minor": 2
}
