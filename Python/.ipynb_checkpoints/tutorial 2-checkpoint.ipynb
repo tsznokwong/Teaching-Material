{
 "cells": [
  {
   "cell_type": "code",
   "execution_count": null,
   "metadata": {},
   "outputs": [],
   "source": [
    "'''\n",
    "Welcome to \"Introduction to Programming with Python\"!\n",
    "\n",
    "Tutorial 2~~~\n",
    "\n",
    "Control Flow\n",
    "\n",
    "We will cover:\n",
    "- if\n",
    "- while loop\n",
    "- for loop\n",
    "- Nested control flow\n",
    "\n",
    "'''"
   ]
  },
  {
   "cell_type": "code",
   "execution_count": 6,
   "metadata": {},
   "outputs": [
    {
     "name": "stdout",
     "output_type": "stream",
     "text": [
      "1 is greater than 0.\n",
      "Jimmy eats.\n",
      "Jimmy doesn't eat now.\n",
      "sorry, no prize for you :)\n",
      "sorry, no prize for you :)\n"
     ]
    }
   ],
   "source": [
    "'''\n",
    "if\n",
    "Execute different instructions based on cetain conditions\n",
    "WARNING: Indentation is important!!!\n",
    "if <condition>:\n",
    "    statements\n",
    "(elif <another-condition>:\n",
    "    statements)\n",
    "(else:\n",
    "    statements)\n",
    "'''\n",
    "if 1 > 0:\n",
    "    print(\"1 is greater than 0.\")\n",
    "    \n",
    "'''\n",
    "if Jimmy is hungry, then he eats.\n",
    "'''\n",
    "Jimmy = \"hungry\"\n",
    "if Jimmy == \"hungry\":\n",
    "    print(\"Jimmy eats.\")\n",
    "    Jimmy = \"not hungry\"\n",
    "else:\n",
    "    print(\"Jimmy doesn't eat.\")\n",
    "    \n",
    "if Jimmy == \"hungry\":\n",
    "    print(\"Jimmy eats now.\")\n",
    "else:\n",
    "    print(\"Jimmy doesn't eat now.\")\n",
    "\n",
    "'''\n",
    "If lucky number greater than or equal to 88, big prize.\n",
    "Else if luck number greater than 60, medium prize.\n",
    "Else no prize.\n",
    "'''\n",
    "lucky_number = 60\n",
    "if lucky_number >= 88:\n",
    "    print(\"you got big prize.\")\n",
    "if lucky_number > 60 and lucky_number < 88:\n",
    "    print(\"you got medium prize.\")\n",
    "else:\n",
    "    print(\"sorry, no prize for you :)\")\n",
    "    \n",
    "another_lucky_number = 60\n",
    "if another_lucky_number >= 88:\n",
    "    print(\"you got big prize.\")\n",
    "if another_lucky_number in range(61, 88):\n",
    "    print(\"you got medium prize.\")\n",
    "else:\n",
    "    print(\"sorry, no prize for you :)\")"
   ]
  },
  {
   "cell_type": "code",
   "execution_count": null,
   "metadata": {},
   "outputs": [],
   "source": [
    "'''\n",
    "Exercise: If\n",
    "\n",
    "Determine whether this year is leap year.\n",
    "year divisible by 4 but not divisible by 100 is a leap year\n",
    "year divisible by 400 is always a leap year\n",
    "'''\n",
    "year = 2019\n",
    "# Insert your code here\n",
    "\n"
   ]
  },
  {
   "cell_type": "code",
   "execution_count": 8,
   "metadata": {},
   "outputs": [
    {
     "name": "stdout",
     "output_type": "stream",
     "text": [
      "UMMM... This number is too difficult to understand\n"
     ]
    }
   ],
   "source": [
    "'''\n",
    "Nested if\n",
    "\n",
    "In number 0 - 9,\n",
    "0 - 4 are called small numbers\n",
    "5 - 9 are called big numbers\n",
    "0 and 1 are really small\n",
    "8 and 9 are really big\n",
    "'''\n",
    "number = 5\n",
    "if number in range(5, 10):\n",
    "    print(\"A big number\")\n",
    "    if number >= 8:\n",
    "        print(\"REALLY BIG\")\n",
    "elif number in range(0, 5):\n",
    "    print(\"A small number\")\n",
    "    if number < 2:\n",
    "        priint(\"REALLY SMALL\")\n",
    "else:\n",
    "    print(\"UMMM... This number is too difficult to understand\")"
   ]
  },
  {
   "cell_type": "code",
   "execution_count": 8,
   "metadata": {},
   "outputs": [
    {
     "name": "stdout",
     "output_type": "stream",
     "text": [
      "i is 0\n",
      "i is 1\n",
      "i is 2\n",
      "i is 3\n",
      "i is 4\n",
      "i is 5\n",
      "i is 6\n",
      "i is 7\n",
      "i is 8\n",
      "i is 9\n",
      "*****\n",
      "0 2 4 6 8 \n"
     ]
    }
   ],
   "source": [
    "'''\n",
    "while loop\n",
    "WARNING: make sure it can be end\n",
    "while <condition>:\n",
    "    statements\n",
    "    \n",
    "'''\n",
    "i = 0\n",
    "while i < 10:\n",
    "    print(\"i is\", i)\n",
    "    i += 1\n",
    "'''\n",
    "print n number of stars\n",
    "'''\n",
    "n = 5\n",
    "while n > 0:\n",
    "    print(\"*\", end = \"\")\n",
    "    n -= 1\n",
    "print()\n",
    "'''\n",
    "print all even numbers from 0 to n - 1\n",
    "'''\n",
    "n = 10\n",
    "i = 0\n",
    "while i < 10:\n",
    "    print(i, end = \" \")\n",
    "    i += 2\n",
    "print()"
   ]
  },
  {
   "cell_type": "code",
   "execution_count": 7,
   "metadata": {},
   "outputs": [
    {
     "name": "stdout",
     "output_type": "stream",
     "text": [
      "i is 0\n",
      "i is 1\n",
      "i is 2\n",
      "i is 3\n",
      "i is 4\n",
      "i is 5\n",
      "i is 6\n",
      "i is 7\n",
      "i is 8\n",
      "i is 9\n",
      "*****\n",
      "0 2 4 6 8 \n"
     ]
    }
   ],
   "source": [
    "'''\n",
    "for loop\n",
    "for <something> in <some_range>:\n",
    "    statements\n",
    "'''\n",
    "for i in range(0, 10):\n",
    "    print(\"i is\", i)\n",
    "'''\n",
    "print n number of stars\n",
    "'''\n",
    "n = 5\n",
    "for i in range(n):\n",
    "    print(\"*\", end = \"\")\n",
    "print()\n",
    "'''\n",
    "print all even numbers from 0 to n - 1\n",
    "'''\n",
    "n = 10\n",
    "for i in range(0, n, 2):\n",
    "    print(i, end = \" \")\n",
    "print()"
   ]
  },
  {
   "cell_type": "code",
   "execution_count": null,
   "metadata": {},
   "outputs": [],
   "source": [
    "'''\n",
    "Exercise: loops\n",
    "create a timetable for number\n",
    "e.g.\n",
    "3 x 1 = 3\n",
    "3 x 2 = 6\n",
    ".\n",
    ".\n",
    ".\n",
    "3 x 10 = 30\n",
    "'''\n",
    "number = 3\n",
    "# insert your code here\n"
   ]
  },
  {
   "cell_type": "code",
   "execution_count": 6,
   "metadata": {},
   "outputs": [
    {
     "name": "stdout",
     "output_type": "stream",
     "text": [
      "A big number\n",
      "1 2 3 4 5 \n",
      "6 7 8 9 10 \n",
      "11 12 13 14 15 \n",
      "16 17 18 19 20 \n",
      "21 22 23 24 25 \n"
     ]
    }
   ],
   "source": [
    "'''\n",
    "Nested control flow\n",
    "\n",
    "Nested if\n",
    "In number 0 - 9,\n",
    "0 - 4 are called small numbers\n",
    "5 - 9 are called big numbers\n",
    "0 and 1 are really small\n",
    "8 and 9 are really big\n",
    "'''\n",
    "number = 5\n",
    "if number in range(5, 10):\n",
    "    print(\"A big number\")\n",
    "    if number >= 8:\n",
    "        print(\"REALLY BIG\")\n",
    "elif number in range(0, 5):\n",
    "    print(\"A small number\")\n",
    "    if number < 2:\n",
    "        priint(\"REALLY SMALL\")\n",
    "else:\n",
    "    print(\"UMMM... This number is too difficult to understand\")\n",
    "'''\n",
    "Nested loop\n",
    "print 1 to n^2 with n rows with n numbers in ascending order.\n",
    "'''\n",
    "n = 5\n",
    "for i in range(n):\n",
    "    for j in range(n):\n",
    "        print(i * n + j + 1, end = \" \")\n",
    "    print()"
   ]
  },
  {
   "cell_type": "code",
   "execution_count": null,
   "metadata": {},
   "outputs": [],
   "source": [
    "'''\n",
    "Homework 1:\n",
    "\n",
    "Uber is looking to automate its pricing system by using python programming and Uber needs your help to write \n",
    "a conditional statement that gives an output of the trip fare.\n",
    "This is the way Uber charges its trips:\n",
    "Total distance of trip is less than or equals to 10km: \n",
    "$40\n",
    "Total distance of trip is between greater than 10km and less than or equals to 50km:\n",
    "$3/km after 10km + Base Fare\n",
    "Total distance of trip is greater than 50km:\n",
    "$2/km for every km after 50km + $3/km from 10km to 50km + Base Fare\n",
    "\n",
    "However, because Uber operates in country XYZ which has tolls, some trips might include toll fees which costs $5.\n",
    "If the trip includes a toll fee, the variable toll will take string value ‘yes’. If the trip doesn’t include a \n",
    "toll fee, toll will take string value ‘no’.\n",
    "( i.e. toll = ‘yes’ OR toll = ‘no’ )\n",
    "Construct a short code using Nested-IF statements that prints the string output “Your trip is $____” which tells\n",
    "you the price of the trip.\n",
    "Then, test your code using distance = 58 and toll = ‘yes’.\n",
    "'''\n",
    "distance = 58\n",
    "toll = 'yes'\n",
    "# Insert your code here\n"
   ]
  },
  {
   "cell_type": "code",
   "execution_count": null,
   "metadata": {},
   "outputs": [],
   "source": [
    "'''\n",
    "Homework 2:\n",
    "\n",
    "determine whether the number is a prime.\n",
    "'''\n",
    "number = 1331\n",
    "# insert your code here\n"
   ]
  },
  {
   "cell_type": "code",
   "execution_count": 11,
   "metadata": {},
   "outputs": [
    {
     "name": "stdout",
     "output_type": "stream",
     "text": [
      "18\n"
     ]
    }
   ],
   "source": [
    "'''\n",
    "Homework 3:\n",
    "\n",
    "guessing game:\n",
    "- 2 players\n",
    "- In each round, the player will guess a number between 1 and 100\n",
    "- If the player guess the target correctly, he loses\n",
    "- Else the range will be shrink smaller \n",
    "- Next player will guess the number and repeat, until someone loses\n",
    "\n",
    "e.g. \n",
    "Target = 30\n",
    "The range is 1 and 100\n",
    "Player 1 guesses 50\n",
    "The range becomes 1 and 49\n",
    "Player 2 guesses 25\n",
    "The range becomes 26 and 49\n",
    ".\n",
    ".\n",
    ".\n",
    "\n",
    "Random number:\n",
    "import random\n",
    "random.randint(1, 101)\n",
    "'''\n",
    "import random\n",
    "target = random.randint(1, 101)\n",
    "# insert your code here"
   ]
  }
 ],
 "metadata": {
  "kernelspec": {
   "display_name": "Python 3",
   "language": "python",
   "name": "python3"
  },
  "language_info": {
   "codemirror_mode": {
    "name": "ipython",
    "version": 3
   },
   "file_extension": ".py",
   "mimetype": "text/x-python",
   "name": "python",
   "nbconvert_exporter": "python",
   "pygments_lexer": "ipython3",
   "version": "3.6.4"
  }
 },
 "nbformat": 4,
 "nbformat_minor": 2
}
